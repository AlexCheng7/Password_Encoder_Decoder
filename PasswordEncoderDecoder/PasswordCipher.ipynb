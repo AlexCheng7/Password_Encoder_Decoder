{
 "cells": [
  {
   "cell_type": "markdown",
   "metadata": {},
   "source": [
    "Overall, the goal of this will be to take a default sequence and then encode it\n",
    "In this, this the user will be asked if they want to encode or decode.\n",
    "\n",
    "If they want to encode, the program will ask for a password as an input.\n",
    "It will check these three things:\n",
    "    1. Cannot contain same character in a row 3 or more times\n",
    "    2. Cannot include spaces\n",
    "    3. Less than 8 characters\n",
    "User will be rejected if input matches any of these three conditions. Program will ask prompt him to do try again.\n",
    "There will be 3 levels password safety that the input can be: Weak, Medium, and Strong.\n",
    "If input passes, user will be asked to choose 1 of 4 levels of encryption. (Single, Variable, Custom-Variable, Random).\n",
    "Custom-Variable will require the user to input their own start key and key increment. \n",
    "(Note: The user will not be able to change the start key and key increment after this initial input.)\n",
    "\n",
    "After that, the user will be asked if they went to do encode again and which encoding to do it with.\n",
    "The user can continue doing this for 10 times or until they input \"No\" and the resulting encoded password will be displayed with a string that displays the sequence of which encodings were used.\n",
    "If a custom encoding was used, it will also print out the start key and key increment.\n",
    "\n",
    "If they want to decode, the program will ask for the encoded password and the sequence string as inputs.\n",
    "The program will then use the sequence string and encoded password to decode the original.\n",
    "If it detects a custom encoding was used, it will ask for what start key and key increment was used.\n",
    "Random encoding will not be able to be decoded. \n",
    "\n",
    "Fun fact: this can also be used as a way to encrypt your password.\n"
   ]
  },
  {
   "cell_type": "code",
   "execution_count": 1,
   "metadata": {},
   "outputs": [
    {
     "name": "stdout",
     "output_type": "stream",
     "text": [
      "Hello, this is a Password Cipher.\n",
      "Would you like to encode or decode: encode\n",
      "Theres are the minimum password requiements: \n",
      "Must be more than 8 characters. \n",
      "Cannot have spaces. \n",
      "Cannot have 3 or more of the same character consecutively.\n",
      "Enter your password: handoahd9h1#4D\n",
      "Password is strong. Contains at least 15 characters, at least 1 number, at least 1 symbol and at least 1 upper and lower case.\n",
      "Please choose if you want Single, Variable, Custom, or Random Encoding. \n",
      "Type Single for Single, Variable for Variable, etc.\n",
      "Warning: Custom encoding will not be able to be decoded.\n",
      "Choose your encoding: Random\n",
      "You have 9 encodes left.\n",
      "Would you like to do encode again? Y/N?N\n",
      "This is your encoded password: ăǂÖĺ¼ŘĈśĿÄªƈñ\n",
      "This is your encode_order: R\n"
     ]
    }
   ],
   "source": [
    "from scripts import password_cipher"
   ]
  },
  {
   "cell_type": "markdown",
   "metadata": {},
   "source": [
    "To see how this works, choose encode and then try entering 2391uy4An3!\n",
    "It will say you have a medium strength password and ask you to choose your encoding.\n",
    "Try doing: Single, Single, Variable, Custom using key of 30, key increment of 2, and multiplier of 3.\n",
    "Make sure after each time you make sure to type \"Y\" to encode again. You should have 6 encodes left by the end of this.\n",
    "After that, you can end the encode by typing \"N\".\n",
    "Your encoded password should look like this: ɶʀʏʐ˝˪ʮ˄˺ˈʿ\n",
    "Your encode_order should look lke this: SSVC. "
   ]
  },
  {
   "cell_type": "markdown",
   "metadata": {},
   "source": [
    "When you choose decode, you can enter the previous encoded password: ɶʀʏʐ˝˪ʮ˄˺ˈʿ.\n",
    "After that, you can enter the order: SSVC, it will prompt you for the key: 30, key increment: 2, and multiplier: 3. because it detected there was a custom encoding used.\n",
    "It should then print out your original password: 2391uy4An3!"
   ]
  },
  {
   "cell_type": "markdown",
   "metadata": {},
   "source": [
    "Using random will make it so the program cannot decode it again. When running this, you will see a message at the end if you try to decode saying \"Used random. Unable to return decoded password.\""
   ]
  },
  {
   "cell_type": "markdown",
   "metadata": {},
   "source": [
    "Extra Credit: This in particular was more difficult because I tried to combine multiple concepts from class and then expand further upon them such as ciphers, checking punctuations, and importing multiple files. Making sure the user could have lenient inputs for typing encode was hard as I had to almost essentially search for the word itself after lowercasing it. Furthermore, I made it so the user could encode at least 10 times which was hard to keep track of it and then I had to create a way where the program could use a set of inputs to then reverse the encode, printing out the original password. Going through password checks and determining strength based on what characters was used or how much repetition was also difficult to do."
   ]
  }
 ],
 "metadata": {
  "kernelspec": {
   "display_name": "Python 3",
   "language": "python",
   "name": "python3"
  },
  "language_info": {
   "codemirror_mode": {
    "name": "ipython",
    "version": 3
   },
   "file_extension": ".py",
   "mimetype": "text/x-python",
   "name": "python",
   "nbconvert_exporter": "python",
   "pygments_lexer": "ipython3",
   "version": "3.6.7"
  }
 },
 "nbformat": 4,
 "nbformat_minor": 2
}
